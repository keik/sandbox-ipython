{
 "cells": [
  {
   "cell_type": "markdown",
   "metadata": {},
   "source": [
    "# matplotlib"
   ]
  },
  {
   "cell_type": "code",
   "execution_count": 1,
   "metadata": {
    "collapsed": false
   },
   "outputs": [],
   "source": [
    "import numpy as np\n",
    "import matplotlib.pyplot as plt\n",
    "import matplotlib.image as img\n",
    "%matplotlib inline\n",
    "\n",
    "np.random.seed(1)"
   ]
  },
  {
   "cell_type": "markdown",
   "metadata": {},
   "source": [
    "## normal scale image"
   ]
  },
  {
   "cell_type": "code",
   "execution_count": 2,
   "metadata": {
    "collapsed": false
   },
   "outputs": [
    {
     "data": {
      "text/plain": [
       "(0, 9)"
      ]
     },
     "execution_count": 2,
     "metadata": {},
     "output_type": "execute_result"
    },
    {
     "data": {
      "image/png": "[encoded data removed]",
      "text/plain": [
       "<matplotlib.figure.Figure at 0x10934af60>"
      ]
     },
     "metadata": {},
     "output_type": "display_data"
    }
   ],
   "source": [
    "fig = plt.figure()\n",
    "ax = fig.add_subplot(1, 1, 1, aspect='equal')\n",
    "\n",
    "x = np.arange(0, 10)\n",
    "y = np.arange(0, 10)\n",
    "i = img.NonUniformImage(ax, extent=(min(x), max(x), min(y), max(y)))\n",
    "i.set_data(x, y, np.random.rand(10, 10))\n",
    "ax.images.append(i)\n",
    "ax.set_xlim(min(x), max(x))\n",
    "ax.set_ylim(min(y), max(y))"
   ]
  },
  {
   "cell_type": "markdown",
   "metadata": {},
   "source": [
    "## log scale image"
   ]
  },
  {
   "cell_type": "code",
   "execution_count": 3,
   "metadata": {
    "collapsed": false
   },
   "outputs": [
    {
     "data": {
      "text/plain": [
       "([<matplotlib.axis.YTick at 0x10c549a58>,\n",
       "  <matplotlib.axis.YTick at 0x10c55b0b8>,\n",
       "  <matplotlib.axis.YTick at 0x10c4cd630>,\n",
       "  <matplotlib.axis.YTick at 0x10c4bcb38>,\n",
       "  <matplotlib.axis.YTick at 0x10c4800f0>],\n",
       " <a list of 5 Text yticklabel objects>)"
      ]
     },
     "execution_count": 3,
     "metadata": {},
     "output_type": "execute_result"
    },
    {
     "data": {
      "image/png": "[encoded data removed]",
      "text/plain": [
       "<matplotlib.figure.Figure at 0x109818c18>"
      ]
     },
     "metadata": {},
     "output_type": "display_data"
    }
   ],
   "source": [
    "def __log_scale(n):\n",
    "    logn = np.log2(n)\n",
    "    y = n * (1 - np.logspace(-logn, 0, n, base=2, endpoint=True))[::-1]\n",
    "    y = y.astype(int)\n",
    "\n",
    "    y_inv = np.arange(len(y))\n",
    "    for i in range(len(y)-1):\n",
    "        y_inv[y[i]:y[i+1]] = i\n",
    "\n",
    "    return y, y_inv\n",
    "\n",
    "\n",
    "rows, cols = 20, 10\n",
    "D_random = np.random.rand(rows, cols)\n",
    "\n",
    "fig = plt.figure()\n",
    "\n",
    "# linear scale\n",
    "ax1 = fig.add_subplot(211)\n",
    "im_phantom1 = img.NonUniformImage(ax1, extent=(0, 1, 0, 1))\n",
    "im_phantom1.set_data(np.arange(cols), np.arange(rows), D_random)\n",
    "\n",
    "ax1.images.append(im_phantom1)\n",
    "plt.xticks(np.linspace(0, cols, 5))\n",
    "plt.yticks(np.linspace(0, rows, 5))\n",
    "\n",
    "# log scale\n",
    "ax2 = fig.add_subplot(212)\n",
    "log_y, log_y_inv = __log_scale(rows)\n",
    "im_phantom2 = img.NonUniformImage(ax2, extent=(0, 1, 0, 1))\n",
    "im_phantom2.set_data(np.arange(cols), log_y, D_random)\n",
    "ax2.images.append(im_phantom2)\n",
    "plt.xticks(np.linspace(0, cols, 5))\n",
    "plt.yticks(np.linspace(0, rows - 1, 5), log_y_inv[np.linspace(0, rows - 1, 5).astype(int)])"
   ]
  }
 ],
 "metadata": {
  "kernelspec": {
   "display_name": "Python 3",
   "language": "python",
   "name": "python3"
  },
  "language_info": {
   "codemirror_mode": {
    "name": "ipython",
    "version": 3
   },
   "file_extension": ".py",
   "mimetype": "text/x-python",
   "name": "python",
   "nbconvert_exporter": "python",
   "pygments_lexer": "ipython3",
   "version": "3.5.1"
  }
 },
 "nbformat": 4,
 "nbformat_minor": 0
}
